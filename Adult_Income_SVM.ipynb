{
  "nbformat": 4,
  "nbformat_minor": 0,
  "metadata": {
    "colab": {
      "name": "Adult_Income_SVM.ipynb",
      "provenance": []
    },
    "kernelspec": {
      "name": "python3",
      "display_name": "Python 3"
    },
    "language_info": {
      "name": "python"
    }
  },
  "cells": [
    {
      "cell_type": "code",
      "execution_count": 1,
      "metadata": {
        "id": "qs3nHMMoqBi-"
      },
      "outputs": [],
      "source": [
        "import pandas as pd\n",
        "import numpy as np\n",
        "from sklearn.model_selection import train_test_split\n",
        "\n",
        "#get data \n",
        "df = pd.read_csv(\"adult.csv\")\n",
        "\n",
        "#remove redundant columns or unnecessary columns\n",
        "df = df.drop(['education','fnlwgt'],axis=1)\n",
        "\n",
        "#replace ? with nan for easier removal\n",
        "df['workclass'] = df['workclass'].replace(\"?\",np.nan)\n",
        "df['occupation'] = df['occupation'].replace(\"?\",np.nan)\n",
        "df['native.country'] = df['native.country'].replace(\"?\",np.nan)\n",
        "\n",
        "#replace nan with mode\n",
        "df['workclass']=df['workclass'].fillna(df['workclass'].mode()[0])\n",
        "df['occupation']=df['occupation'].fillna(df['occupation'].mode()[0])\n",
        "df['native.country']=df['native.country'].fillna(df['native.country'].mode()[0])\n",
        "\n",
        "#remove duplicates\n",
        "df = df.drop_duplicates(keep='first')\n",
        "\n",
        "#change categorical values into numeric (ordinal where necessary)\n",
        "df['workclass'].replace(['Never-worked','Without-pay','Private','Local-gov','State-gov','Federal-gov','Self-emp-not-inc','Self-emp-inc'],[0,1,2,3,4,5,6,7], inplace=True)\n",
        "df['marital.status'].replace(['Widowed','Never-married','Divorced','Separated','Married-spouse-absent','Married-AF-spouse','Married-civ-spouse'],[0,1,2,3,4,5,6], inplace=True)\n",
        "df['relationship'].replace(['Not-in-family','Unmarried','Own-child','Other-relative','Wife','Husband'],[0,1,2,3,4,5], inplace=True)\n",
        "df['income'].replace(['<=50K','>50K'],[0,1], inplace=True)\n",
        "\n",
        "#non ordinal\n",
        "df['occupation'] = df['occupation'].astype('category')\n",
        "df['occupation'] = (df['occupation'].cat.codes).astype(np.int64)\n",
        "df['race'] = df['race'].astype('category')\n",
        "df['race'] = (df['race'].cat.codes).astype(np.int64)\n",
        "df['sex'] = df['sex'].astype('category')\n",
        "df['sex'] = (df['sex'].cat.codes).astype(np.int64)\n",
        "df['native.country'] = df['native.country'].astype('category')\n",
        "df['native.country'] = (df['native.country'].cat.codes).astype(np.int64)\n",
        "\n",
        "\n",
        "#statified split into test/train\n",
        "train, test = train_test_split(df,stratify=df['income'],test_size=0.25)\n",
        "\n",
        "\n",
        "#write to file\n",
        "train.to_csv('train.csv', index=False)\n",
        "test.to_csv('test.csv', index=False)\n"
      ]
    },
    {
      "cell_type": "code",
      "source": [
        "import time\n",
        "import pandas as pd\n",
        "import numpy as np\n",
        "import seaborn as sns\n",
        "import matplotlib.pyplot as plt\n",
        "from sklearn.model_selection import train_test_split\n",
        "from sklearn.preprocessing import MinMaxScaler, StandardScaler\n",
        "from imblearn.pipeline import make_pipeline as imb_make_pipeline\n",
        "from imblearn.over_sampling import RandomOverSampler, SMOTE\n",
        "from sklearn.metrics import accuracy_score, f1_score, confusion_matrix, classification_report\n",
        "from sklearn.svm import LinearSVC, SVC"
      ],
      "metadata": {
        "id": "_7jUq4j0rROM"
      },
      "execution_count": 2,
      "outputs": []
    },
    {
      "cell_type": "code",
      "source": [
        "X_dev = train.drop('income', axis=1)\n",
        "y_dev = train['income']\n",
        "X_test = test.drop('income', axis=1)\n",
        "y_test = test['income']"
      ],
      "metadata": {
        "id": "DQYkM-vkr3WD"
      },
      "execution_count": 3,
      "outputs": []
    },
    {
      "cell_type": "code",
      "source": [
        "scaler = MinMaxScaler()\n",
        "X_dev = scaler.fit_transform(X_dev)\n",
        "X_test = scaler.transform(X_test)"
      ],
      "metadata": {
        "id": "T-YERvyOsAs8"
      },
      "execution_count": 4,
      "outputs": []
    },
    {
      "cell_type": "code",
      "source": [
        "t_start_linear = time.time()\n",
        "svm_linear = SVC(kernel=\"linear\")\n",
        "svm_linear.fit(X_dev, y_dev.ravel(order='C'))\n",
        "t_end_linear = time.time()\n",
        "p_start_linear = time.time()\n",
        "pred_train1 = svm_linear.predict(X_dev)\n",
        "pred_test1 = svm_linear.predict(X_test)\n",
        "p_end_linear = time.time()\n",
        "\n",
        "t_start_rbf = time.time()\n",
        "svm_rbf = SVC(kernel=\"rbf\")\n",
        "svm_rbf.fit(X_dev, y_dev.ravel(order='C'))\n",
        "t_end_rbf = time.time()\n",
        "p_start_rbf = time.time()\n",
        "pred_train2 = svm_rbf.predict(X_dev)\n",
        "pred_test2 = svm_rbf.predict(X_test)\n",
        "p_end_rbf = time.time()\n",
        "\n",
        "score1 = svm_linear.score(X_test, y_test.ravel(order='C'))\n",
        "score2 = svm_rbf.score(X_test, y_test.ravel(order='C'))\n",
        "\n",
        "print(\"Linear kernel SVM test accuracy = \", score1)\n",
        "print(\"Rbf kernel SVM test accuracy = \", score2)\n",
        "\n",
        "print(svm_linear.support_vectors_.shape)\n",
        "print(svm_rbf.support_vectors_.shape)\n",
        "\n",
        "print(f\"Linear kernel SVM train time = {t_end_linear - t_start_linear}\")\n",
        "print(f\"Rbf kernel SVM train time = {t_end_rbf - t_start_rbf}\")\n",
        "\n",
        "print(f\"Linear kernel SVM prediction time = {p_end_linear - p_start_linear}\")\n",
        "print(f\"Rbf kernel SVM prediction time = {p_end_rbf - p_start_rbf}\")"
      ],
      "metadata": {
        "colab": {
          "base_uri": "https://localhost:8080/"
        },
        "id": "treUe1QKsGJ1",
        "outputId": "a073d528-7865-4dec-9255-0b5dad629500"
      },
      "execution_count": 5,
      "outputs": [
        {
          "output_type": "stream",
          "name": "stdout",
          "text": [
            "Linear kernel SVM test accuracy =  0.8363937594919232\n",
            "Rbf kernel SVM test accuracy =  0.8381885958856827\n",
            "(8580, 12)\n",
            "(8242, 12)\n",
            "Linear kernel SVM train time = 18.770982265472412\n",
            "Rbf kernel SVM train time = 12.613884925842285\n",
            "Linear kernel SVM prediction time = 11.084616661071777\n",
            "Rbf kernel SVM prediction time = 16.245892763137817\n"
          ]
        }
      ]
    },
    {
      "cell_type": "markdown",
      "source": [
        "Though Rbf kernel performs better, the difference is minimal and linear kernel takes lesser time to train and predict."
      ],
      "metadata": {
        "id": "tiGA8BCG0uQd"
      }
    },
    {
      "cell_type": "code",
      "source": [
        "from sklearn.model_selection import KFold, GridSearchCV\n",
        "\n",
        "kf = KFold()\n",
        "\n",
        "params = {\"C\": np.logspace(-2, 2, 4), 'kernel': ['rbf']}\n",
        "\n",
        "clf = GridSearchCV(SVC(), params, scoring='accuracy')\n",
        "clf.fit(X_dev, y_dev.ravel(order='C'))\n",
        "\n",
        "print(\"Best score Linear kernel SVM\", clf.best_score_)\n",
        "print(\"Best parameters Linear kernel SVM\", clf.best_params_)"
      ],
      "metadata": {
        "colab": {
          "base_uri": "https://localhost:8080/"
        },
        "id": "Za5sVPqyBZAH",
        "outputId": "109ddcc1-876d-428a-d455-17d756a752e0"
      },
      "execution_count": 6,
      "outputs": [
        {
          "output_type": "stream",
          "name": "stdout",
          "text": [
            "Best score Linear kernel SVM 0.8430984194028927\n",
            "Best parameters Linear kernel SVM {'C': 4.6415888336127775, 'kernel': 'rbf'}\n"
          ]
        }
      ]
    },
    {
      "cell_type": "code",
      "source": [
        ""
      ],
      "metadata": {
        "id": "rqB7DagiBaZ1"
      },
      "execution_count": null,
      "outputs": []
    }
  ]
}