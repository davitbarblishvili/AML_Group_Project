{
 "cells": [
  {
   "cell_type": "code",
   "execution_count": 1,
   "id": "7aa5781e",
   "metadata": {},
   "outputs": [
    {
     "name": "stderr",
     "output_type": "stream",
     "text": [
      "2022-04-25 15:55:37.085146: W tensorflow/stream_executor/platform/default/dso_loader.cc:64] Could not load dynamic library 'libcudart.so.11.0'; dlerror: libcudart.so.11.0: cannot open shared object file: No such file or directory\n",
      "2022-04-25 15:55:37.085191: I tensorflow/stream_executor/cuda/cudart_stub.cc:29] Ignore above cudart dlerror if you do not have a GPU set up on your machine.\n"
     ]
    }
   ],
   "source": [
    "import numpy as np\n",
    "import matplotlib.pyplot as plt\n",
    "import pandas as pd\n",
    "import tensorflow as tf\n",
    "import timeit as timer\n",
    "\n",
    "from tensorflow.python.keras.layers import Activation, Dense, Conv1D, MaxPooling1D, Dropout, Flatten, LSTM\n",
    "import warnings\n",
    "warnings.filterwarnings(\"ignore\")\n"
   ]
  },
  {
   "cell_type": "code",
   "execution_count": 2,
   "id": "bd271e2a",
   "metadata": {},
   "outputs": [],
   "source": [
    "train = pd.read_csv(\"train.csv\")\n",
    "test = pd.read_csv(\"test.csv\")\n",
    "\n",
    "xtrain = train.loc[:, train.columns != 'income']\n",
    "ytrain = train['income']\n",
    "xtest = test.loc[:, test.columns != 'income']\n",
    "ytest = test['income']"
   ]
  },
  {
   "cell_type": "code",
   "execution_count": 3,
   "id": "c6824474",
   "metadata": {},
   "outputs": [],
   "source": [
    "xtrain['education.num']=np.where(xtrain['education.num'] >= 13, 1, 0) #turned to check if higher than college degree\n",
    "xtrain['capital.gain']=np.where(xtrain['capital.gain'] > 0, 1, 0)\n",
    "xtrain['capital.loss']=np.where(xtrain['capital.loss'] > 0, 1, 0)\n",
    "xtrain['hours.per.week']=np.where(xtrain['hours.per.week'] >= 40, 1, 0) #turned to check if full time\n",
    "\n",
    "xtrain = xtrain.drop(columns='age')\n",
    "\n",
    "xtest['education.num']=np.where(xtest['education.num'] >= 13, 1, 0) #turned to check if higher than college degree\n",
    "xtest['capital.gain']=np.where(xtest['capital.gain'] > 0, 1, 0)\n",
    "xtest['capital.loss']=np.where(xtest['capital.loss'] > 0, 1, 0)\n",
    "xtest['hours.per.week']=np.where(xtest['hours.per.week'] >= 40, 1, 0) #turned to check if full time\n",
    "\n",
    "xtest = xtest.drop(columns='age')"
   ]
  },
  {
   "cell_type": "code",
   "execution_count": 4,
   "id": "43b5f717",
   "metadata": {},
   "outputs": [
    {
     "name": "stderr",
     "output_type": "stream",
     "text": [
      "2022-04-25 15:55:43.774347: I tensorflow/stream_executor/cuda/cuda_gpu_executor.cc:922] could not open file to read NUMA node: /sys/bus/pci/devices/0000:01:00.0/numa_node\n",
      "Your kernel may have been built without NUMA support.\n",
      "2022-04-25 15:55:43.774532: W tensorflow/stream_executor/platform/default/dso_loader.cc:64] Could not load dynamic library 'libcudart.so.11.0'; dlerror: libcudart.so.11.0: cannot open shared object file: No such file or directory\n",
      "2022-04-25 15:55:43.774593: W tensorflow/stream_executor/platform/default/dso_loader.cc:64] Could not load dynamic library 'libcublas.so.11'; dlerror: libcublas.so.11: cannot open shared object file: No such file or directory\n",
      "2022-04-25 15:55:43.774643: W tensorflow/stream_executor/platform/default/dso_loader.cc:64] Could not load dynamic library 'libcublasLt.so.11'; dlerror: libcublasLt.so.11: cannot open shared object file: No such file or directory\n",
      "2022-04-25 15:55:43.774693: W tensorflow/stream_executor/platform/default/dso_loader.cc:64] Could not load dynamic library 'libcufft.so.10'; dlerror: libcufft.so.10: cannot open shared object file: No such file or directory\n",
      "2022-04-25 15:55:43.774741: W tensorflow/stream_executor/platform/default/dso_loader.cc:64] Could not load dynamic library 'libcurand.so.10'; dlerror: libcurand.so.10: cannot open shared object file: No such file or directory\n",
      "2022-04-25 15:55:43.774789: W tensorflow/stream_executor/platform/default/dso_loader.cc:64] Could not load dynamic library 'libcusolver.so.11'; dlerror: libcusolver.so.11: cannot open shared object file: No such file or directory\n",
      "2022-04-25 15:55:43.774836: W tensorflow/stream_executor/platform/default/dso_loader.cc:64] Could not load dynamic library 'libcusparse.so.11'; dlerror: libcusparse.so.11: cannot open shared object file: No such file or directory\n",
      "2022-04-25 15:55:43.774884: W tensorflow/stream_executor/platform/default/dso_loader.cc:64] Could not load dynamic library 'libcudnn.so.8'; dlerror: libcudnn.so.8: cannot open shared object file: No such file or directory\n",
      "2022-04-25 15:55:43.774893: W tensorflow/core/common_runtime/gpu/gpu_device.cc:1850] Cannot dlopen some GPU libraries. Please make sure the missing libraries mentioned above are installed properly if you would like to use GPU. Follow the guide at https://www.tensorflow.org/install/gpu for how to download and setup the required libraries for your platform.\n",
      "Skipping registering GPU devices...\n",
      "2022-04-25 15:55:43.775347: I tensorflow/core/platform/cpu_feature_guard.cc:151] This TensorFlow binary is optimized with oneAPI Deep Neural Network Library (oneDNN) to use the following CPU instructions in performance-critical operations:  AVX2 FMA\n",
      "To enable them in other operations, rebuild TensorFlow with the appropriate compiler flags.\n"
     ]
    }
   ],
   "source": [
    "xtrain = xtrain.values.reshape(xtrain.shape[0],xtrain.shape[1],1)\n",
    "xtrain = tf.cast(xtrain, tf.float32)\n",
    "\n",
    "xtest = xtest.values.reshape(xtest.shape[0],xtest.shape[1],1)\n",
    "xtest = tf.cast(xtest, tf.float32)"
   ]
  },
  {
   "cell_type": "code",
   "execution_count": 5,
   "id": "27715233",
   "metadata": {},
   "outputs": [],
   "source": [
    "ytrain = tf.keras.utils.to_categorical(ytrain, 2)\n",
    "ytest = tf.keras.utils.to_categorical(ytest, 2)"
   ]
  },
  {
   "cell_type": "code",
   "execution_count": 6,
   "id": "9d11b12c",
   "metadata": {},
   "outputs": [],
   "source": [
    "model = tf.keras.Sequential()\n",
    "\n",
    "\n",
    "# #two convoluted layers with dropout/pooling\n",
    "model.add(Conv1D(filters=64, kernel_size=3, activation='relu'))\n",
    "model.add(Dropout(0.5))\n",
    "model.add(MaxPooling1D())\n",
    "\n",
    "model.add(Conv1D(filters=120, kernel_size=3, activation='relu'))\n",
    "\n",
    "model.add(MaxPooling1D())\n",
    "\n",
    "model.add(Flatten())\n",
    "\n",
    "model.add(Dense(64, activation='relu'))\n",
    "\n",
    "\n",
    "#equivalent to 1d sigmoid\n",
    "model.add(Dense(2, activation='softmax'))\n",
    "model.compile('adam','categorical_crossentropy', metrics=['accuracy'])\n",
    "model.build(input_shape= xtrain.shape )"
   ]
  },
  {
   "cell_type": "code",
   "execution_count": null,
   "id": "8de9a8e8",
   "metadata": {},
   "outputs": [],
   "source": []
  },
  {
   "cell_type": "code",
   "execution_count": null,
   "id": "03826028",
   "metadata": {},
   "outputs": [],
   "source": []
  },
  {
   "cell_type": "code",
   "execution_count": 7,
   "id": "f5c5a040",
   "metadata": {},
   "outputs": [],
   "source": [
    "predict = model.predict(np.array( [xtrain[0],] ))"
   ]
  },
  {
   "cell_type": "code",
   "execution_count": 8,
   "id": "f8503527",
   "metadata": {},
   "outputs": [
    {
     "data": {
      "text/plain": [
       "array([0.50468534, 0.49531466], dtype=float32)"
      ]
     },
     "execution_count": 8,
     "metadata": {},
     "output_type": "execute_result"
    }
   ],
   "source": [
    "predict[0]"
   ]
  },
  {
   "cell_type": "code",
   "execution_count": null,
   "id": "6e25d4fc",
   "metadata": {},
   "outputs": [],
   "source": []
  },
  {
   "cell_type": "code",
   "execution_count": 24,
   "id": "397783bd",
   "metadata": {},
   "outputs": [],
   "source": []
  },
  {
   "cell_type": "code",
   "execution_count": null,
   "id": "faf201d3",
   "metadata": {},
   "outputs": [],
   "source": []
  },
  {
   "cell_type": "code",
   "execution_count": 9,
   "id": "d67e4816",
   "metadata": {},
   "outputs": [
    {
     "name": "stdout",
     "output_type": "stream",
     "text": [
      "Time fit:  21.916256599999542\n",
      "Time predict:  0.6570763999998235\n",
      "Accuracy:  0.8325279355049133\n"
     ]
    }
   ],
   "source": [
    "\n",
    "\n",
    "t1 = timer.default_timer()\n",
    "fit_data = model.fit(xtrain,ytrain,epochs=15,batch_size=512, verbose=0)\n",
    "time_fit = timer.default_timer() - t1\n",
    "t1 = timer.default_timer()\n",
    "scores = model.evaluate(xtest,ytest,verbose=0)\n",
    "time_predict = timer.default_timer() - t1\n",
    "\n",
    "print(\"Time fit: \", time_fit)\n",
    "print(\"Time predict: \", time_predict)\n",
    "print(\"Accuracy: \", scores[1])"
   ]
  },
  {
   "cell_type": "code",
   "execution_count": 29,
   "id": "af5fc95f",
   "metadata": {},
   "outputs": [
    {
     "data": {
      "text/plain": [
       "TensorShape([21727, 43, 1])"
      ]
     },
     "execution_count": 29,
     "metadata": {},
     "output_type": "execute_result"
    }
   ],
   "source": [
    "xtrain.shape"
   ]
  },
  {
   "cell_type": "code",
   "execution_count": 30,
   "id": "4a6d5c05",
   "metadata": {},
   "outputs": [
    {
     "data": {
      "text/plain": [
       "TensorShape([7243, 43, 1])"
      ]
     },
     "execution_count": 30,
     "metadata": {},
     "output_type": "execute_result"
    }
   ],
   "source": [
    "xtest.shape"
   ]
  },
  {
   "cell_type": "code",
   "execution_count": 31,
   "id": "c4ddbd31",
   "metadata": {},
   "outputs": [
    {
     "data": {
      "text/plain": [
       "<tf.Tensor: shape=(43, 1), dtype=float32, numpy=\n",
       "array([[0.],\n",
       "       [0.],\n",
       "       [0.],\n",
       "       [0.],\n",
       "       [1.],\n",
       "       [1.],\n",
       "       [0.],\n",
       "       [1.],\n",
       "       [0.],\n",
       "       [0.],\n",
       "       [0.],\n",
       "       [0.],\n",
       "       [0.],\n",
       "       [0.],\n",
       "       [0.],\n",
       "       [0.],\n",
       "       [0.],\n",
       "       [0.],\n",
       "       [0.],\n",
       "       [0.],\n",
       "       [1.],\n",
       "       [0.],\n",
       "       [0.],\n",
       "       [0.],\n",
       "       [0.],\n",
       "       [0.],\n",
       "       [0.],\n",
       "       [0.],\n",
       "       [0.],\n",
       "       [0.],\n",
       "       [0.],\n",
       "       [0.],\n",
       "       [0.],\n",
       "       [0.],\n",
       "       [1.],\n",
       "       [0.],\n",
       "       [0.],\n",
       "       [0.],\n",
       "       [0.],\n",
       "       [0.],\n",
       "       [0.],\n",
       "       [0.],\n",
       "       [1.]], dtype=float32)>"
      ]
     },
     "execution_count": 31,
     "metadata": {},
     "output_type": "execute_result"
    }
   ],
   "source": [
    "xtrain[0]"
   ]
  },
  {
   "cell_type": "code",
   "execution_count": null,
   "id": "e193a408",
   "metadata": {},
   "outputs": [],
   "source": []
  },
  {
   "cell_type": "code",
   "execution_count": 16,
   "id": "d3b53c91",
   "metadata": {},
   "outputs": [
    {
     "data": {
      "text/plain": [
       "array([1., 0.], dtype=float32)"
      ]
     },
     "execution_count": 16,
     "metadata": {},
     "output_type": "execute_result"
    }
   ],
   "source": [
    "ytrain[0]"
   ]
  },
  {
   "cell_type": "code",
   "execution_count": null,
   "id": "d9921913",
   "metadata": {},
   "outputs": [],
   "source": [
    "\n"
   ]
  },
  {
   "cell_type": "code",
   "execution_count": null,
   "id": "34c75084",
   "metadata": {},
   "outputs": [],
   "source": []
  },
  {
   "cell_type": "code",
   "execution_count": null,
   "id": "4f72e629",
   "metadata": {},
   "outputs": [],
   "source": []
  },
  {
   "cell_type": "code",
   "execution_count": null,
   "id": "55aab5f6",
   "metadata": {},
   "outputs": [],
   "source": []
  },
  {
   "cell_type": "code",
   "execution_count": null,
   "id": "8077286e",
   "metadata": {},
   "outputs": [],
   "source": []
  }
 ],
 "metadata": {
  "kernelspec": {
   "display_name": "Python 3 (ipykernel)",
   "language": "python",
   "name": "python3"
  },
  "language_info": {
   "codemirror_mode": {
    "name": "ipython",
    "version": 3
   },
   "file_extension": ".py",
   "mimetype": "text/x-python",
   "name": "python",
   "nbconvert_exporter": "python",
   "pygments_lexer": "ipython3",
   "version": "3.8.10"
  }
 },
 "nbformat": 4,
 "nbformat_minor": 5
}
