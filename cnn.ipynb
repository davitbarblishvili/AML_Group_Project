{
 "cells": [
  {
   "cell_type": "code",
   "execution_count": 9,
   "id": "7aa5781e",
   "metadata": {},
   "outputs": [],
   "source": [
    "import numpy as np\n",
    "import matplotlib.pyplot as plt\n",
    "import pandas as pd\n",
    "import tensorflow as tf\n",
    "import timeit as timer\n",
    "\n",
    "from tensorflow.python.keras.layers import Activation, Dense, Conv2D, MaxPooling2D, Dropout, Flatten, LSTM\n",
    "import warnings\n",
    "warnings.filterwarnings(\"ignore\")\n"
   ]
  },
  {
   "cell_type": "code",
   "execution_count": 10,
   "id": "bd271e2a",
   "metadata": {},
   "outputs": [],
   "source": [
    "train = pd.read_csv(\"train.csv\")\n",
    "test = pd.read_csv(\"test.csv\")\n",
    "\n",
    "xtrain = train.loc[:, train.columns != 'income']\n",
    "ytrain = train['income']\n",
    "xtest = test.loc[:, test.columns != 'income']\n",
    "ytest = test['income']"
   ]
  },
  {
   "cell_type": "code",
   "execution_count": 11,
   "id": "c6824474",
   "metadata": {},
   "outputs": [],
   "source": [
    "xtrain['education.num']=np.where(xtrain['education.num'] >= 13, 1, 0) #turned to check if higher than college degree\n",
    "xtrain['capital.gain']=np.where(xtrain['capital.gain'] > 0, 1, 0)\n",
    "xtrain['capital.loss']=np.where(xtrain['capital.loss'] > 0, 1, 0)\n",
    "xtrain['hours.per.week']=np.where(xtrain['hours.per.week'] >= 40, 1, 0) #turned to check if full time\n",
    "\n",
    "xtrain = xtrain.drop(columns='age')\n",
    "\n",
    "xtest['education.num']=np.where(xtest['education.num'] >= 13, 1, 0) #turned to check if higher than college degree\n",
    "xtest['capital.gain']=np.where(xtest['capital.gain'] > 0, 1, 0)\n",
    "xtest['capital.loss']=np.where(xtest['capital.loss'] > 0, 1, 0)\n",
    "xtest['hours.per.week']=np.where(xtest['hours.per.week'] >= 40, 1, 0) #turned to check if full time\n",
    "\n",
    "xtest = xtest.drop(columns='age')"
   ]
  },
  {
   "cell_type": "code",
   "execution_count": 12,
   "id": "43b5f717",
   "metadata": {},
   "outputs": [],
   "source": [
    "xtrain = xtrain.values.reshape(xtrain.shape[0],xtrain.shape[1],1)\n",
    "xtrain = tf.cast(xtrain, tf.float32)\n",
    "\n",
    "xtest = xtest.values.reshape(xtest.shape[0],xtest.shape[1],1)\n",
    "xtest = tf.cast(xtest, tf.float32)"
   ]
  },
  {
   "cell_type": "code",
   "execution_count": 15,
   "id": "34bdd8e9",
   "metadata": {},
   "outputs": [],
   "source": [
    "ytrain = tf.keras.utils.to_categorical(ytrain, 2)\n",
    "ytest = tf.keras.utils.to_categorical(ytest, 2)"
   ]
  },
  {
   "cell_type": "code",
   "execution_count": 26,
   "id": "9d11b12c",
   "metadata": {},
   "outputs": [],
   "source": [
    "model = tf.keras.Sequential()\n",
    "\n",
    "model.add(LSTM(3))\n",
    "\n",
    "# #two convoluted layers with dropout/pooling\n",
    "# model.add(Conv2D(filters=64, kernel_size=(5, 5), activation='relu'))\n",
    "# model.add(Dropout(0.5))\n",
    "# model.add(MaxPooling2D())\n",
    "\n",
    "# model.add(Conv2D(filters=120, kernel_size=(5,5), activation='relu'))\n",
    "\n",
    "# model.add(MaxPooling2D())\n",
    "\n",
    "# model.add(Flatten())\n",
    "\n",
    "# model.add(Dense(64, activation='relu'))\n",
    "\n",
    "\n",
    "#equivalent to 1d sigmoid\n",
    "model.add(Dense(2, activation='softmax'))\n",
    "model.compile('adam','categorical_crossentropy', metrics=['accuracy'])\n",
    "model.build(input_shape= xtrain.shape )"
   ]
  },
  {
   "cell_type": "code",
   "execution_count": null,
   "id": "8de9a8e8",
   "metadata": {},
   "outputs": [],
   "source": [
    "\n",
    "\n",
    "t1 = timer.default_timer()\n",
    "fit_data = model.fit(xtrain,ytrain,epochs=15,batch_size=512, verbose=0)\n",
    "time_fit = timer.default_timer() - t1\n",
    "t1 = timer.default_timer()\n",
    "scores = model.evaluate(xtest,ytest,verbose=0)\n",
    "time_predict = timer.default_timer() - t1\n",
    "\n",
    "print(\"Time fit: \", time_fit)\n",
    "print(\"Time predict: \", time_predict)\n",
    "print(\"Accuracy: \", scores[1])"
   ]
  },
  {
   "cell_type": "code",
   "execution_count": null,
   "id": "03826028",
   "metadata": {},
   "outputs": [],
   "source": []
  },
  {
   "cell_type": "code",
   "execution_count": 27,
   "id": "f5c5a040",
   "metadata": {},
   "outputs": [],
   "source": [
    "predict = model.predict(np.array( [xtrain[0],] ))"
   ]
  },
  {
   "cell_type": "code",
   "execution_count": 28,
   "id": "f8503527",
   "metadata": {},
   "outputs": [
    {
     "data": {
      "text/plain": [
       "array([0.5320871 , 0.46791297], dtype=float32)"
      ]
     },
     "execution_count": 28,
     "metadata": {},
     "output_type": "execute_result"
    }
   ],
   "source": [
    "predict[0]"
   ]
  },
  {
   "cell_type": "code",
   "execution_count": null,
   "id": "6e25d4fc",
   "metadata": {},
   "outputs": [],
   "source": []
  },
  {
   "cell_type": "code",
   "execution_count": 24,
   "id": "397783bd",
   "metadata": {},
   "outputs": [],
   "source": []
  },
  {
   "cell_type": "code",
   "execution_count": null,
   "id": "faf201d3",
   "metadata": {},
   "outputs": [],
   "source": []
  },
  {
   "cell_type": "code",
   "execution_count": null,
   "id": "d67e4816",
   "metadata": {},
   "outputs": [],
   "source": []
  },
  {
   "cell_type": "code",
   "execution_count": 13,
   "id": "af5fc95f",
   "metadata": {},
   "outputs": [
    {
     "data": {
      "text/plain": [
       "TensorShape([21727, 43, 1])"
      ]
     },
     "execution_count": 13,
     "metadata": {},
     "output_type": "execute_result"
    }
   ],
   "source": [
    "xtrain.shape"
   ]
  },
  {
   "cell_type": "code",
   "execution_count": 14,
   "id": "4a6d5c05",
   "metadata": {},
   "outputs": [
    {
     "data": {
      "text/plain": [
       "TensorShape([7243, 43, 1])"
      ]
     },
     "execution_count": 14,
     "metadata": {},
     "output_type": "execute_result"
    }
   ],
   "source": [
    "xtest.shape"
   ]
  },
  {
   "cell_type": "code",
   "execution_count": null,
   "id": "c4ddbd31",
   "metadata": {},
   "outputs": [],
   "source": []
  },
  {
   "cell_type": "code",
   "execution_count": null,
   "id": "e193a408",
   "metadata": {},
   "outputs": [],
   "source": []
  },
  {
   "cell_type": "code",
   "execution_count": 16,
   "id": "d3b53c91",
   "metadata": {},
   "outputs": [
    {
     "data": {
      "text/plain": [
       "array([1., 0.], dtype=float32)"
      ]
     },
     "execution_count": 16,
     "metadata": {},
     "output_type": "execute_result"
    }
   ],
   "source": [
    "ytrain[0]"
   ]
  },
  {
   "cell_type": "code",
   "execution_count": null,
   "id": "d9921913",
   "metadata": {},
   "outputs": [],
   "source": [
    "\n"
   ]
  },
  {
   "cell_type": "code",
   "execution_count": null,
   "id": "ac3641e0",
   "metadata": {},
   "outputs": [],
   "source": []
  },
  {
   "cell_type": "code",
   "execution_count": null,
   "id": "2bb03ac4",
   "metadata": {},
   "outputs": [],
   "source": []
  },
  {
   "cell_type": "code",
   "execution_count": null,
   "id": "7abd4991",
   "metadata": {},
   "outputs": [],
   "source": []
  },
  {
   "cell_type": "code",
   "execution_count": null,
   "id": "df220e6f",
   "metadata": {},
   "outputs": [],
   "source": []
  }
 ],
 "metadata": {
  "kernelspec": {
   "display_name": "Python 3 (ipykernel)",
   "language": "python",
   "name": "python3"
  },
  "language_info": {
   "codemirror_mode": {
    "name": "ipython",
    "version": 3
   },
   "file_extension": ".py",
   "mimetype": "text/x-python",
   "name": "python",
   "nbconvert_exporter": "python",
   "pygments_lexer": "ipython3",
   "version": "3.8.10"
  }
 },
 "nbformat": 4,
 "nbformat_minor": 5
}
